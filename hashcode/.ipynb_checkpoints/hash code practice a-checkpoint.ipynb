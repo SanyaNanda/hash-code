{
 "cells": [
  {
   "cell_type": "code",
   "execution_count": null,
   "metadata": {},
   "outputs": [],
   "source": [
    "import fileinput \n",
    "for line in fileinput.input(files ='b_little_bit_of_everything.in'): \n",
    "    print(line) "
   ]
  },
  {
   "cell_type": "code",
   "execution_count": 50,
   "metadata": {},
   "outputs": [],
   "source": [
    "f = open(\"a_example\", \"r\")\n",
    "content = f.read()\n",
    "content_list = content.splitlines()\n",
    "f.close()"
   ]
  },
  {
   "cell_type": "code",
   "execution_count": 51,
   "metadata": {},
   "outputs": [
    {
     "name": "stdout",
     "output_type": "stream",
     "text": [
      "['5', '1', '2', '1']\n"
     ]
    }
   ],
   "source": [
    "t = content_list[0]\n",
    "t = t.split()\n",
    "print(t)"
   ]
  },
  {
   "cell_type": "code",
   "execution_count": 52,
   "metadata": {},
   "outputs": [],
   "source": [
    "total_pizza=int(t[0])\n",
    "t2=int(t[1])\n",
    "t3=int(t[2])\n",
    "t4=int(t[3])"
   ]
  },
  {
   "cell_type": "code",
   "execution_count": 53,
   "metadata": {},
   "outputs": [],
   "source": [
    "no_of_ing=[]\n",
    "ing=[]\n",
    "ind=[]\n",
    "tot_ing=[]"
   ]
  },
  {
   "cell_type": "code",
   "execution_count": 54,
   "metadata": {},
   "outputs": [],
   "source": [
    "for i in range(1,len(content_list)):\n",
    "    z=content_list[i].split()\n",
    "    no_of_ing.append(int(z[0]))\n",
    "    ing.append(sorted(z[1:]))\n",
    "    for k in z[1:]:\n",
    "        if k not in tot_ing:\n",
    "            tot_ing.append(k)\n",
    "    ind.append(i-1)"
   ]
  },
  {
   "cell_type": "code",
   "execution_count": 55,
   "metadata": {
    "scrolled": true
   },
   "outputs": [
    {
     "data": {
      "text/plain": [
       "['onion', 'pepper', 'olive', 'mushroom', 'tomato', 'basil', 'chicken']"
      ]
     },
     "execution_count": 55,
     "metadata": {},
     "output_type": "execute_result"
    }
   ],
   "source": [
    "tot_ing"
   ]
  },
  {
   "cell_type": "code",
   "execution_count": 56,
   "metadata": {},
   "outputs": [],
   "source": [
    "import pandas as pd"
   ]
  },
  {
   "cell_type": "code",
   "execution_count": 57,
   "metadata": {},
   "outputs": [],
   "source": [
    "l=[]\n",
    "for i in ing:\n",
    "    l.append(tuple(i))"
   ]
  },
  {
   "cell_type": "code",
   "execution_count": 58,
   "metadata": {},
   "outputs": [],
   "source": [
    "df2 = pd.DataFrame(list(zip(no_of_ing,l,ind)),columns=['no of ingredients','ingredients','pizza no'])"
   ]
  },
  {
   "cell_type": "code",
   "execution_count": 59,
   "metadata": {},
   "outputs": [
    {
     "data": {
      "text/html": [
       "<div>\n",
       "<style scoped>\n",
       "    .dataframe tbody tr th:only-of-type {\n",
       "        vertical-align: middle;\n",
       "    }\n",
       "\n",
       "    .dataframe tbody tr th {\n",
       "        vertical-align: top;\n",
       "    }\n",
       "\n",
       "    .dataframe thead th {\n",
       "        text-align: right;\n",
       "    }\n",
       "</style>\n",
       "<table border=\"1\" class=\"dataframe\">\n",
       "  <thead>\n",
       "    <tr style=\"text-align: right;\">\n",
       "      <th></th>\n",
       "      <th>ingredients</th>\n",
       "      <th>pizza nos</th>\n",
       "      <th>no of ingredients</th>\n",
       "      <th>frequency</th>\n",
       "    </tr>\n",
       "  </thead>\n",
       "  <tbody>\n",
       "    <tr>\n",
       "      <th>0</th>\n",
       "      <td>(basil, chicken)</td>\n",
       "      <td>[4]</td>\n",
       "      <td>2</td>\n",
       "      <td>1</td>\n",
       "    </tr>\n",
       "    <tr>\n",
       "      <th>1</th>\n",
       "      <td>(basil, mushroom, tomato)</td>\n",
       "      <td>[1, 3]</td>\n",
       "      <td>3</td>\n",
       "      <td>2</td>\n",
       "    </tr>\n",
       "    <tr>\n",
       "      <th>2</th>\n",
       "      <td>(chicken, mushroom, pepper)</td>\n",
       "      <td>[2]</td>\n",
       "      <td>3</td>\n",
       "      <td>1</td>\n",
       "    </tr>\n",
       "    <tr>\n",
       "      <th>3</th>\n",
       "      <td>(olive, onion, pepper)</td>\n",
       "      <td>[0]</td>\n",
       "      <td>3</td>\n",
       "      <td>1</td>\n",
       "    </tr>\n",
       "  </tbody>\n",
       "</table>\n",
       "</div>"
      ],
      "text/plain": [
       "                   ingredients pizza nos  no of ingredients  frequency\n",
       "0             (basil, chicken)       [4]                  2          1\n",
       "1    (basil, mushroom, tomato)    [1, 3]                  3          2\n",
       "2  (chicken, mushroom, pepper)       [2]                  3          1\n",
       "3       (olive, onion, pepper)       [0]                  3          1"
      ]
     },
     "execution_count": 59,
     "metadata": {},
     "output_type": "execute_result"
    }
   ],
   "source": [
    "df2 = df2.sort_values(by=['no of ingredients'])\n",
    "df1 = df2.groupby('ingredients')['pizza no'].apply(list).reset_index(name='pizza nos')\n",
    "df1['no of ingredients'] = [len(x) for x in df1['ingredients']]\n",
    "df1 = df1.sort_values(by=['no of ingredients'])\n",
    "df1['frequency'] = [len(x) for x in df1['pizza nos']]\n",
    "df1"
   ]
  },
  {
   "cell_type": "code",
   "execution_count": 60,
   "metadata": {},
   "outputs": [],
   "source": [
    "df1=df1.reset_index()"
   ]
  },
  {
   "cell_type": "code",
   "execution_count": 61,
   "metadata": {},
   "outputs": [
    {
     "data": {
      "text/html": [
       "<div>\n",
       "<style scoped>\n",
       "    .dataframe tbody tr th:only-of-type {\n",
       "        vertical-align: middle;\n",
       "    }\n",
       "\n",
       "    .dataframe tbody tr th {\n",
       "        vertical-align: top;\n",
       "    }\n",
       "\n",
       "    .dataframe thead th {\n",
       "        text-align: right;\n",
       "    }\n",
       "</style>\n",
       "<table border=\"1\" class=\"dataframe\">\n",
       "  <thead>\n",
       "    <tr style=\"text-align: right;\">\n",
       "      <th></th>\n",
       "      <th>index</th>\n",
       "      <th>ingredients</th>\n",
       "      <th>pizza nos</th>\n",
       "      <th>no of ingredients</th>\n",
       "      <th>frequency</th>\n",
       "    </tr>\n",
       "  </thead>\n",
       "  <tbody>\n",
       "    <tr>\n",
       "      <th>0</th>\n",
       "      <td>0</td>\n",
       "      <td>(basil, chicken)</td>\n",
       "      <td>[4]</td>\n",
       "      <td>2</td>\n",
       "      <td>1</td>\n",
       "    </tr>\n",
       "    <tr>\n",
       "      <th>1</th>\n",
       "      <td>1</td>\n",
       "      <td>(basil, mushroom, tomato)</td>\n",
       "      <td>[1, 3]</td>\n",
       "      <td>3</td>\n",
       "      <td>2</td>\n",
       "    </tr>\n",
       "    <tr>\n",
       "      <th>2</th>\n",
       "      <td>2</td>\n",
       "      <td>(chicken, mushroom, pepper)</td>\n",
       "      <td>[2]</td>\n",
       "      <td>3</td>\n",
       "      <td>1</td>\n",
       "    </tr>\n",
       "    <tr>\n",
       "      <th>3</th>\n",
       "      <td>3</td>\n",
       "      <td>(olive, onion, pepper)</td>\n",
       "      <td>[0]</td>\n",
       "      <td>3</td>\n",
       "      <td>1</td>\n",
       "    </tr>\n",
       "  </tbody>\n",
       "</table>\n",
       "</div>"
      ],
      "text/plain": [
       "   index                  ingredients pizza nos  no of ingredients  frequency\n",
       "0      0             (basil, chicken)       [4]                  2          1\n",
       "1      1    (basil, mushroom, tomato)    [1, 3]                  3          2\n",
       "2      2  (chicken, mushroom, pepper)       [2]                  3          1\n",
       "3      3       (olive, onion, pepper)       [0]                  3          1"
      ]
     },
     "execution_count": 61,
     "metadata": {},
     "output_type": "execute_result"
    }
   ],
   "source": [
    "df=df1.copy()\n",
    "df"
   ]
  },
  {
   "cell_type": "markdown",
   "metadata": {},
   "source": [
    "## assumptions\n",
    "\n",
    "### 1 delivery to team of 2 contains 2 pizzas, team of 3 is 3 and team of 4 is 4"
   ]
  },
  {
   "cell_type": "code",
   "execution_count": 62,
   "metadata": {},
   "outputs": [],
   "source": [
    "d=t2+t3+t4\n",
    "p=2*t2+3*t3+4*t4"
   ]
  },
  {
   "cell_type": "code",
   "execution_count": 63,
   "metadata": {},
   "outputs": [],
   "source": [
    "import math\n",
    "def wont_get_pizza(total_pizza,t2,t3,t4,p):\n",
    "    t=total_pizza-p\n",
    "    if t>=0:\n",
    "        t2=t2-1\n",
    "    else:\n",
    "        t=abs(t)\n",
    "        if t>4*t4:\n",
    "            t=t-4*t4\n",
    "            t4=0\n",
    "            t3=math.floor((3*t3-t)/3)\n",
    "        else:\n",
    "            t4=math.floor((4*t4-t)/4)\n",
    "    return t2,t3,t4"
   ]
  },
  {
   "cell_type": "code",
   "execution_count": 64,
   "metadata": {},
   "outputs": [
    {
     "name": "stdout",
     "output_type": "stream",
     "text": [
      "1\n",
      "1\n",
      "0\n",
      "2\n",
      "4\n"
     ]
    }
   ],
   "source": [
    "t2,t3,t4=wont_get_pizza(total_pizza,t2,t3,t4,p)\n",
    "print(t2)\n",
    "print(t3)\n",
    "print(t4)\n",
    "print(t2+t3+t4)\n",
    "print(d)"
   ]
  },
  {
   "cell_type": "code",
   "execution_count": 48,
   "metadata": {},
   "outputs": [],
   "source": [
    "def delivery2(t2,t3,t4,df):\n",
    "    team=[]\n",
    "    s=0\n",
    "    i=0\n",
    "    j=len(df)-1\n",
    "    while(t2!=0):\n",
    "        l=[]\n",
    "        l.append(2)\n",
    "        if len(df['pizza nos'][i])>0:\n",
    "            l.append(df['pizza nos'][i].pop())\n",
    "        else:\n",
    "            i=i+1\n",
    "            l.append(df['pizza nos'][i].pop())\n",
    "        \n",
    "        if len(df['pizza nos'][j])>0:\n",
    "            l.append(df['pizza nos'][j].pop())\n",
    "        else:\n",
    "            j=j-1\n",
    "            l.append(df['pizza nos'][j].pop())\n",
    "        x=list(df['ingredients'][i])\n",
    "        y=list(df['ingredients'][j])\n",
    "        x.extend(y)\n",
    "        x=set(x)\n",
    "        x=len(x)\n",
    "        l.append(x**2)\n",
    "        s=s+x**2\n",
    "        team.append(l)\n",
    "        t2=t2-1\n",
    "    k=i+1   \n",
    "    while(t3!=0):\n",
    "        l=[]\n",
    "        l.append(3)\n",
    "        if len(df['pizza nos'][i])>0:\n",
    "            l.append(df['pizza nos'][i].pop())\n",
    "        else:\n",
    "            i=i+1\n",
    "            while(len(df['pizza nos'][i])==0):\n",
    "                i=i+1\n",
    "            l.append(df['pizza nos'][i].pop())\n",
    "        \n",
    "        if len(df['pizza nos'][k])>0:\n",
    "            l.append(df['pizza nos'][k].pop())\n",
    "        else:\n",
    "            k=k+1\n",
    "            l.append(df['pizza nos'][k].pop())\n",
    "        \n",
    "        if len(df['pizza nos'][j])>0:\n",
    "            l.append(df['pizza nos'][j].pop())\n",
    "        else:\n",
    "            j=j-1\n",
    "            l.append(df['pizza nos'][j].pop())\n",
    "        x=list(df['ingredients'][i])\n",
    "        z=list(df['ingredients'][k])\n",
    "        y=list(df['ingredients'][j])\n",
    "        z.extend(y)\n",
    "        x.extend(z)\n",
    "        x=set(x)\n",
    "        x=len(x)\n",
    "        l.append(x**2)\n",
    "        s=s+x**2\n",
    "        team.append(l)\n",
    "        t3=t3-1\n",
    "    g=k+1\n",
    "    gg=g+1\n",
    "    while(t4!=0):\n",
    "        l=[]\n",
    "        l.append(4)\n",
    "        if len(df['pizza nos'][i])>0:\n",
    "            l.append(df['pizza nos'][i].pop())\n",
    "        else:\n",
    "            i=i+1\n",
    "            while(len(df['pizza nos'][i])==0):\n",
    "                i=i+1\n",
    "            l.append(df['pizza nos'][i].pop())\n",
    "        \n",
    "        if len(df['pizza nos'][k])>0:\n",
    "            l.append(df['pizza nos'][k].pop())\n",
    "        else:\n",
    "            k=k+1\n",
    "            while(len(df['pizza nos'][k])==0):\n",
    "                k=k+1\n",
    "            l.append(df['pizza nos'][k].pop())\n",
    "            \n",
    "        if len(df['pizza nos'][g])>0:\n",
    "            l.append(df['pizza nos'][g].pop())\n",
    "        else:\n",
    "            g=g+1\n",
    "            while(len(df['pizza nos'][g])==0):\n",
    "                g=g+1\n",
    "            l.append(df['pizza nos'][g].pop())\n",
    "            \n",
    "        if len(df['pizza nos'][gg])>0:\n",
    "            l.append(df['pizza nos'][gg].pop())\n",
    "        else:\n",
    "            gg=gg+1\n",
    "            while(len(df['pizza nos'][gg])==0):\n",
    "                gg=gg+1\n",
    "            l.append(df['pizza nos'][gg].pop())\n",
    "        \n",
    "            \n",
    "#         if len(df['pizza nos'][j])>0:\n",
    "#             l.append(df['pizza nos'][j].pop())\n",
    "#         else:\n",
    "#             j=j-1\n",
    "#             while(len(df['pizza nos'][j])==0):\n",
    "#                 j=j-1\n",
    "#             l.append(df['pizza nos'][j].pop())\n",
    "            \n",
    "#         if len(df['pizza nos'][g])>0:\n",
    "#             l.append(df['pizza nos'][g].pop())\n",
    "#         else:\n",
    "#             g=g-1\n",
    "#             while(len(df['pizza nos'][j])==0):\n",
    "#                 g=g-1\n",
    "#             l.append(df['pizza nos'][g].pop())\n",
    "        x=list(df['ingredients'][i])\n",
    "        z=list(df['ingredients'][k])\n",
    "        zz=list(df['ingredients'][g])\n",
    "        y=list(df['ingredients'][gg])\n",
    "        z.extend(y)\n",
    "        x.extend(zz)\n",
    "        x.extend(z)\n",
    "        x=set(x)\n",
    "        x=len(x)\n",
    "        l.append(x**2)\n",
    "        s=s+x**2\n",
    "        team.append(l)\n",
    "        t4=t4-1\n",
    "    return team, s   \n",
    "                \n",
    "        "
   ]
  },
  {
   "cell_type": "code",
   "execution_count": 49,
   "metadata": {},
   "outputs": [
    {
     "data": {
      "text/plain": [
       "[[2, 4, 0, 25], [3, 3, 1, 2, 25]]"
      ]
     },
     "execution_count": 49,
     "metadata": {},
     "output_type": "execute_result"
    }
   ],
   "source": [
    "l1=[]\n",
    "s=0\n",
    "l1,s=delivery2(t2,t3,t4,df)\n",
    "l1"
   ]
  },
  {
   "cell_type": "code",
   "execution_count": 65,
   "metadata": {},
   "outputs": [],
   "source": [
    "def delivery2(t2,t3,t4,df):\n",
    "    team=[]\n",
    "    s=0\n",
    "    i=0\n",
    "    j=len(df)-1\n",
    "    while(t2!=0):\n",
    "        l=[]\n",
    "        l.append(2)\n",
    "        if len(df['pizza nos'][i])>0:\n",
    "            l.append(df['pizza nos'][i].pop())\n",
    "        else:\n",
    "            i=i+1\n",
    "            l.append(df['pizza nos'][i].pop())\n",
    "        \n",
    "        if len(df['pizza nos'][j])>0:\n",
    "            l.append(df['pizza nos'][j].pop())\n",
    "        else:\n",
    "            j=j-1\n",
    "            l.append(df['pizza nos'][j].pop())\n",
    "        x=list(df['ingredients'][i])\n",
    "        y=list(df['ingredients'][j])\n",
    "        x.extend(y)\n",
    "        x=set(x)\n",
    "        x=len(x)\n",
    "        l.append(x**2)\n",
    "        s=s+x**2\n",
    "        team.append(l)\n",
    "        t2=t2-1\n",
    "    k=i+1   \n",
    "    while(t3!=0):\n",
    "        l=[]\n",
    "        l.append(3)\n",
    "        if len(df['pizza nos'][i])>0:\n",
    "            l.append(df['pizza nos'][i].pop())\n",
    "        else:\n",
    "            i=i+1\n",
    "            while(len(df['pizza nos'][i])==0):\n",
    "                i=i+1\n",
    "            l.append(df['pizza nos'][i].pop())\n",
    "        \n",
    "        if len(df['pizza nos'][k])>0:\n",
    "            l.append(df['pizza nos'][k].pop())\n",
    "        else:\n",
    "            k=k+1\n",
    "            l.append(df['pizza nos'][k].pop())\n",
    "        \n",
    "        if len(df['pizza nos'][j])>0:\n",
    "            l.append(df['pizza nos'][j].pop())\n",
    "        else:\n",
    "            j=j-1\n",
    "            l.append(df['pizza nos'][j].pop())\n",
    "        x=list(df['ingredients'][i])\n",
    "        z=list(df['ingredients'][k])\n",
    "        y=list(df['ingredients'][j])\n",
    "        z.extend(y)\n",
    "        x.extend(z)\n",
    "        x=set(x)\n",
    "        x=len(x)\n",
    "        l.append(x**2)\n",
    "        s=s+x**2\n",
    "        team.append(l)\n",
    "        t3=t3-1\n",
    "    gg=j-1\n",
    "    while(t4!=0):\n",
    "        l=[]\n",
    "        l.append(4)\n",
    "        if len(df['pizza nos'][i])>0:\n",
    "            l.append(df['pizza nos'][i].pop())\n",
    "        else:\n",
    "            i=i+1\n",
    "            while(len(df['pizza nos'][i])==0):\n",
    "                i=i+1\n",
    "            l.append(df['pizza nos'][i].pop())\n",
    "        \n",
    "        if len(df['pizza nos'][k])>0:\n",
    "            l.append(df['pizza nos'][k].pop())\n",
    "        else:\n",
    "            k=k+1\n",
    "            while(len(df['pizza nos'][k])==0):\n",
    "                k=k+1\n",
    "            l.append(df['pizza nos'][k].pop())\n",
    "            \n",
    "        if len(df['pizza nos'][j])>0:\n",
    "            l.append(df['pizza nos'][j].pop())\n",
    "        else:\n",
    "            j=j-1\n",
    "            while(len(df['pizza nos'][j])==0):\n",
    "                j=j-1\n",
    "            l.append(df['pizza nos'][j].pop())\n",
    "            \n",
    "        if len(df['pizza nos'][gg])>0:\n",
    "            l.append(df['pizza nos'][gg].pop())\n",
    "        else:\n",
    "            gg=gg-1\n",
    "            while(len(df['pizza nos'][gg])==0):\n",
    "                gg=gg-1\n",
    "            l.append(df['pizza nos'][gg].pop())\n",
    "        \n",
    "            \n",
    "#         if len(df['pizza nos'][j])>0:\n",
    "#             l.append(df['pizza nos'][j].pop())\n",
    "#         else:\n",
    "#             j=j-1\n",
    "#             while(len(df['pizza nos'][j])==0):\n",
    "#                 j=j-1\n",
    "#             l.append(df['pizza nos'][j].pop())\n",
    "            \n",
    "#         if len(df['pizza nos'][g])>0:\n",
    "#             l.append(df['pizza nos'][g].pop())\n",
    "#         else:\n",
    "#             g=g-1\n",
    "#             while(len(df['pizza nos'][j])==0):\n",
    "#                 g=g-1\n",
    "#             l.append(df['pizza nos'][g].pop())\n",
    "\n",
    "        x=list(df['ingredients'][i])\n",
    "        z=list(df['ingredients'][k])\n",
    "        zz=list(df['ingredients'][j])\n",
    "        y=list(df['ingredients'][gg])\n",
    "        z.extend(y)\n",
    "        x.extend(zz)\n",
    "        x.extend(z)\n",
    "        x=set(x)\n",
    "        x=len(x)\n",
    "        l.append(x**2)\n",
    "        s=s+x**2\n",
    "        team.append(l)\n",
    "        t4=t4-1\n",
    "    return team, s   \n",
    "                \n",
    "        "
   ]
  },
  {
   "cell_type": "code",
   "execution_count": 66,
   "metadata": {},
   "outputs": [
    {
     "data": {
      "text/plain": [
       "[[2, 4, 0, 25], [3, 3, 1, 2, 25]]"
      ]
     },
     "execution_count": 66,
     "metadata": {},
     "output_type": "execute_result"
    }
   ],
   "source": [
    "l1=[]\n",
    "s=0\n",
    "l1,s=delivery2(t2,t3,t4,df)\n",
    "l1"
   ]
  },
  {
   "cell_type": "code",
   "execution_count": 67,
   "metadata": {},
   "outputs": [
    {
     "data": {
      "text/plain": [
       "50"
      ]
     },
     "execution_count": 67,
     "metadata": {},
     "output_type": "execute_result"
    }
   ],
   "source": [
    "s"
   ]
  }
 ],
 "metadata": {
  "kernelspec": {
   "display_name": "Python 3",
   "language": "python",
   "name": "python3"
  },
  "language_info": {
   "codemirror_mode": {
    "name": "ipython",
    "version": 3
   },
   "file_extension": ".py",
   "mimetype": "text/x-python",
   "name": "python",
   "nbconvert_exporter": "python",
   "pygments_lexer": "ipython3",
   "version": "3.7.3"
  }
 },
 "nbformat": 4,
 "nbformat_minor": 2
}
