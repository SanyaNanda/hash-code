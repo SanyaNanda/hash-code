{
 "cells": [
  {
   "cell_type": "code",
   "execution_count": null,
   "metadata": {},
   "outputs": [],
   "source": [
    "import fileinput \n",
    "for line in fileinput.input(files ='b_little_bit_of_everything.in'): \n",
    "    print(line) "
   ]
  },
  {
   "cell_type": "code",
   "execution_count": 1,
   "metadata": {},
   "outputs": [],
   "source": [
    "f = open(\"b_little_bit_of_everything.in\", \"r\")\n",
    "content = f.read()\n",
    "content_list = content.splitlines()\n",
    "f.close()"
   ]
  },
  {
   "cell_type": "code",
   "execution_count": 2,
   "metadata": {},
   "outputs": [
    {
     "name": "stdout",
     "output_type": "stream",
     "text": [
      "['500', '65', '60', '60']\n"
     ]
    }
   ],
   "source": [
    "t = content_list[0]\n",
    "t = t.split()\n",
    "print(t)"
   ]
  },
  {
   "cell_type": "code",
   "execution_count": 3,
   "metadata": {},
   "outputs": [],
   "source": [
    "total_pizza=int(t[0])\n",
    "t2=int(t[1])\n",
    "t3=int(t[2])\n",
    "t4=int(t[3])"
   ]
  },
  {
   "cell_type": "code",
   "execution_count": 4,
   "metadata": {},
   "outputs": [],
   "source": [
    "no_of_ing=[]\n",
    "ing=[]\n",
    "ind=[]\n",
    "tot_ing=[]"
   ]
  },
  {
   "cell_type": "code",
   "execution_count": 5,
   "metadata": {},
   "outputs": [],
   "source": [
    "for i in range(1,len(content_list)):\n",
    "    z=content_list[i].split()\n",
    "    no_of_ing.append(int(z[0]))\n",
    "    ing.append(sorted(z[1:]))\n",
    "    for k in z[1:]:\n",
    "        if k not in tot_ing:\n",
    "            tot_ing.append(k)\n",
    "    ind.append(i-1)"
   ]
  },
  {
   "cell_type": "code",
   "execution_count": 6,
   "metadata": {
    "scrolled": true
   },
   "outputs": [
    {
     "data": {
      "text/plain": [
       "['mushrooms',\n",
       " 'onions',\n",
       " 'neapolitan-crust',\n",
       " 'emmental-cheese',\n",
       " 'cheddar',\n",
       " 'tomatoes',\n",
       " 'pineapple',\n",
       " 'mozzarella',\n",
       " 'basil',\n",
       " 'ham']"
      ]
     },
     "execution_count": 6,
     "metadata": {},
     "output_type": "execute_result"
    }
   ],
   "source": [
    "tot_ing"
   ]
  },
  {
   "cell_type": "code",
   "execution_count": 7,
   "metadata": {},
   "outputs": [],
   "source": [
    "import pandas as pd"
   ]
  },
  {
   "cell_type": "code",
   "execution_count": 8,
   "metadata": {},
   "outputs": [],
   "source": [
    "l=[]\n",
    "for i in ing:\n",
    "    l.append(tuple(i))"
   ]
  },
  {
   "cell_type": "code",
   "execution_count": 21,
   "metadata": {},
   "outputs": [],
   "source": [
    "df2 = pd.DataFrame(list(zip(no_of_ing,l,ind)),columns=['no of ingredients','ingredients','pizza no'])"
   ]
  },
  {
   "cell_type": "code",
   "execution_count": 22,
   "metadata": {},
   "outputs": [
    {
     "data": {
      "text/html": [
       "<div>\n",
       "<style scoped>\n",
       "    .dataframe tbody tr th:only-of-type {\n",
       "        vertical-align: middle;\n",
       "    }\n",
       "\n",
       "    .dataframe tbody tr th {\n",
       "        vertical-align: top;\n",
       "    }\n",
       "\n",
       "    .dataframe thead th {\n",
       "        text-align: right;\n",
       "    }\n",
       "</style>\n",
       "<table border=\"1\" class=\"dataframe\">\n",
       "  <thead>\n",
       "    <tr style=\"text-align: right;\">\n",
       "      <th></th>\n",
       "      <th>ingredients</th>\n",
       "      <th>pizza nos</th>\n",
       "      <th>no of ingredients</th>\n",
       "      <th>frequency</th>\n",
       "    </tr>\n",
       "  </thead>\n",
       "  <tbody>\n",
       "    <tr>\n",
       "      <th>0</th>\n",
       "      <td>(basil,)</td>\n",
       "      <td>[150, 96, 246, 255, 191, 194, 205, 171, 51, 28...</td>\n",
       "      <td>1</td>\n",
       "      <td>18</td>\n",
       "    </tr>\n",
       "    <tr>\n",
       "      <th>217</th>\n",
       "      <td>(pineapple,)</td>\n",
       "      <td>[316, 130, 131, 135, 232, 418, 313, 118, 183, ...</td>\n",
       "      <td>1</td>\n",
       "      <td>22</td>\n",
       "    </tr>\n",
       "    <tr>\n",
       "      <th>214</th>\n",
       "      <td>(onions,)</td>\n",
       "      <td>[126, 238, 465, 314, 335, 323, 343, 169, 39, 3...</td>\n",
       "      <td>1</td>\n",
       "      <td>15</td>\n",
       "    </tr>\n",
       "    <tr>\n",
       "      <th>208</th>\n",
       "      <td>(neapolitan-crust,)</td>\n",
       "      <td>[134, 140, 102, 457, 331, 176, 215, 157, 167, ...</td>\n",
       "      <td>1</td>\n",
       "      <td>15</td>\n",
       "    </tr>\n",
       "    <tr>\n",
       "      <th>200</th>\n",
       "      <td>(mushrooms,)</td>\n",
       "      <td>[426, 458, 142, 312, 241, 173, 342, 481, 477, ...</td>\n",
       "      <td>1</td>\n",
       "      <td>18</td>\n",
       "    </tr>\n",
       "    <tr>\n",
       "      <th>...</th>\n",
       "      <td>...</td>\n",
       "      <td>...</td>\n",
       "      <td>...</td>\n",
       "      <td>...</td>\n",
       "    </tr>\n",
       "    <tr>\n",
       "      <th>3</th>\n",
       "      <td>(basil, cheddar, emmental-cheese, ham, mozzare...</td>\n",
       "      <td>[300]</td>\n",
       "      <td>9</td>\n",
       "      <td>1</td>\n",
       "    </tr>\n",
       "    <tr>\n",
       "      <th>24</th>\n",
       "      <td>(basil, cheddar, ham, mozzarella, mushrooms, n...</td>\n",
       "      <td>[482]</td>\n",
       "      <td>9</td>\n",
       "      <td>1</td>\n",
       "    </tr>\n",
       "    <tr>\n",
       "      <th>5</th>\n",
       "      <td>(basil, cheddar, emmental-cheese, ham, mozzare...</td>\n",
       "      <td>[47, 12]</td>\n",
       "      <td>9</td>\n",
       "      <td>2</td>\n",
       "    </tr>\n",
       "    <tr>\n",
       "      <th>15</th>\n",
       "      <td>(basil, cheddar, emmental-cheese, mozzarella, ...</td>\n",
       "      <td>[33, 165]</td>\n",
       "      <td>9</td>\n",
       "      <td>2</td>\n",
       "    </tr>\n",
       "    <tr>\n",
       "      <th>4</th>\n",
       "      <td>(basil, cheddar, emmental-cheese, ham, mozzare...</td>\n",
       "      <td>[369, 196, 35, 333, 197, 93, 97, 423, 286, 420...</td>\n",
       "      <td>10</td>\n",
       "      <td>14</td>\n",
       "    </tr>\n",
       "  </tbody>\n",
       "</table>\n",
       "<p>220 rows × 4 columns</p>\n",
       "</div>"
      ],
      "text/plain": [
       "                                           ingredients  \\\n",
       "0                                             (basil,)   \n",
       "217                                       (pineapple,)   \n",
       "214                                          (onions,)   \n",
       "208                                (neapolitan-crust,)   \n",
       "200                                       (mushrooms,)   \n",
       "..                                                 ...   \n",
       "3    (basil, cheddar, emmental-cheese, ham, mozzare...   \n",
       "24   (basil, cheddar, ham, mozzarella, mushrooms, n...   \n",
       "5    (basil, cheddar, emmental-cheese, ham, mozzare...   \n",
       "15   (basil, cheddar, emmental-cheese, mozzarella, ...   \n",
       "4    (basil, cheddar, emmental-cheese, ham, mozzare...   \n",
       "\n",
       "                                             pizza nos  no of ingredients  \\\n",
       "0    [150, 96, 246, 255, 191, 194, 205, 171, 51, 28...                  1   \n",
       "217  [316, 130, 131, 135, 232, 418, 313, 118, 183, ...                  1   \n",
       "214  [126, 238, 465, 314, 335, 323, 343, 169, 39, 3...                  1   \n",
       "208  [134, 140, 102, 457, 331, 176, 215, 157, 167, ...                  1   \n",
       "200  [426, 458, 142, 312, 241, 173, 342, 481, 477, ...                  1   \n",
       "..                                                 ...                ...   \n",
       "3                                                [300]                  9   \n",
       "24                                               [482]                  9   \n",
       "5                                             [47, 12]                  9   \n",
       "15                                           [33, 165]                  9   \n",
       "4    [369, 196, 35, 333, 197, 93, 97, 423, 286, 420...                 10   \n",
       "\n",
       "     frequency  \n",
       "0           18  \n",
       "217         22  \n",
       "214         15  \n",
       "208         15  \n",
       "200         18  \n",
       "..         ...  \n",
       "3            1  \n",
       "24           1  \n",
       "5            2  \n",
       "15           2  \n",
       "4           14  \n",
       "\n",
       "[220 rows x 4 columns]"
      ]
     },
     "execution_count": 22,
     "metadata": {},
     "output_type": "execute_result"
    }
   ],
   "source": [
    "df2 = df2.sort_values(by=['no of ingredients'])\n",
    "df1 = df2.groupby('ingredients')['pizza no'].apply(list).reset_index(name='pizza nos')\n",
    "df1['no of ingredients'] = [len(x) for x in df1['ingredients']]\n",
    "df1 = df1.sort_values(by=['no of ingredients'])\n",
    "df1['frequency'] = [len(x) for x in df1['pizza nos']]\n",
    "df1"
   ]
  },
  {
   "cell_type": "code",
   "execution_count": 23,
   "metadata": {},
   "outputs": [],
   "source": [
    "df1=df1.reset_index()"
   ]
  },
  {
   "cell_type": "code",
   "execution_count": 24,
   "metadata": {},
   "outputs": [
    {
     "data": {
      "text/html": [
       "<div>\n",
       "<style scoped>\n",
       "    .dataframe tbody tr th:only-of-type {\n",
       "        vertical-align: middle;\n",
       "    }\n",
       "\n",
       "    .dataframe tbody tr th {\n",
       "        vertical-align: top;\n",
       "    }\n",
       "\n",
       "    .dataframe thead th {\n",
       "        text-align: right;\n",
       "    }\n",
       "</style>\n",
       "<table border=\"1\" class=\"dataframe\">\n",
       "  <thead>\n",
       "    <tr style=\"text-align: right;\">\n",
       "      <th></th>\n",
       "      <th>index</th>\n",
       "      <th>ingredients</th>\n",
       "      <th>pizza nos</th>\n",
       "      <th>no of ingredients</th>\n",
       "      <th>frequency</th>\n",
       "    </tr>\n",
       "  </thead>\n",
       "  <tbody>\n",
       "    <tr>\n",
       "      <th>0</th>\n",
       "      <td>0</td>\n",
       "      <td>(basil,)</td>\n",
       "      <td>[150, 96, 246, 255, 191, 194, 205, 171, 51, 28...</td>\n",
       "      <td>1</td>\n",
       "      <td>18</td>\n",
       "    </tr>\n",
       "    <tr>\n",
       "      <th>1</th>\n",
       "      <td>217</td>\n",
       "      <td>(pineapple,)</td>\n",
       "      <td>[316, 130, 131, 135, 232, 418, 313, 118, 183, ...</td>\n",
       "      <td>1</td>\n",
       "      <td>22</td>\n",
       "    </tr>\n",
       "    <tr>\n",
       "      <th>2</th>\n",
       "      <td>214</td>\n",
       "      <td>(onions,)</td>\n",
       "      <td>[126, 238, 465, 314, 335, 323, 343, 169, 39, 3...</td>\n",
       "      <td>1</td>\n",
       "      <td>15</td>\n",
       "    </tr>\n",
       "    <tr>\n",
       "      <th>3</th>\n",
       "      <td>208</td>\n",
       "      <td>(neapolitan-crust,)</td>\n",
       "      <td>[134, 140, 102, 457, 331, 176, 215, 157, 167, ...</td>\n",
       "      <td>1</td>\n",
       "      <td>15</td>\n",
       "    </tr>\n",
       "    <tr>\n",
       "      <th>4</th>\n",
       "      <td>200</td>\n",
       "      <td>(mushrooms,)</td>\n",
       "      <td>[426, 458, 142, 312, 241, 173, 342, 481, 477, ...</td>\n",
       "      <td>1</td>\n",
       "      <td>18</td>\n",
       "    </tr>\n",
       "    <tr>\n",
       "      <th>...</th>\n",
       "      <td>...</td>\n",
       "      <td>...</td>\n",
       "      <td>...</td>\n",
       "      <td>...</td>\n",
       "      <td>...</td>\n",
       "    </tr>\n",
       "    <tr>\n",
       "      <th>215</th>\n",
       "      <td>3</td>\n",
       "      <td>(basil, cheddar, emmental-cheese, ham, mozzare...</td>\n",
       "      <td>[300]</td>\n",
       "      <td>9</td>\n",
       "      <td>1</td>\n",
       "    </tr>\n",
       "    <tr>\n",
       "      <th>216</th>\n",
       "      <td>24</td>\n",
       "      <td>(basil, cheddar, ham, mozzarella, mushrooms, n...</td>\n",
       "      <td>[482]</td>\n",
       "      <td>9</td>\n",
       "      <td>1</td>\n",
       "    </tr>\n",
       "    <tr>\n",
       "      <th>217</th>\n",
       "      <td>5</td>\n",
       "      <td>(basil, cheddar, emmental-cheese, ham, mozzare...</td>\n",
       "      <td>[47, 12]</td>\n",
       "      <td>9</td>\n",
       "      <td>2</td>\n",
       "    </tr>\n",
       "    <tr>\n",
       "      <th>218</th>\n",
       "      <td>15</td>\n",
       "      <td>(basil, cheddar, emmental-cheese, mozzarella, ...</td>\n",
       "      <td>[33, 165]</td>\n",
       "      <td>9</td>\n",
       "      <td>2</td>\n",
       "    </tr>\n",
       "    <tr>\n",
       "      <th>219</th>\n",
       "      <td>4</td>\n",
       "      <td>(basil, cheddar, emmental-cheese, ham, mozzare...</td>\n",
       "      <td>[369, 196, 35, 333, 197, 93, 97, 423, 286, 420...</td>\n",
       "      <td>10</td>\n",
       "      <td>14</td>\n",
       "    </tr>\n",
       "  </tbody>\n",
       "</table>\n",
       "<p>220 rows × 5 columns</p>\n",
       "</div>"
      ],
      "text/plain": [
       "     index                                        ingredients  \\\n",
       "0        0                                           (basil,)   \n",
       "1      217                                       (pineapple,)   \n",
       "2      214                                          (onions,)   \n",
       "3      208                                (neapolitan-crust,)   \n",
       "4      200                                       (mushrooms,)   \n",
       "..     ...                                                ...   \n",
       "215      3  (basil, cheddar, emmental-cheese, ham, mozzare...   \n",
       "216     24  (basil, cheddar, ham, mozzarella, mushrooms, n...   \n",
       "217      5  (basil, cheddar, emmental-cheese, ham, mozzare...   \n",
       "218     15  (basil, cheddar, emmental-cheese, mozzarella, ...   \n",
       "219      4  (basil, cheddar, emmental-cheese, ham, mozzare...   \n",
       "\n",
       "                                             pizza nos  no of ingredients  \\\n",
       "0    [150, 96, 246, 255, 191, 194, 205, 171, 51, 28...                  1   \n",
       "1    [316, 130, 131, 135, 232, 418, 313, 118, 183, ...                  1   \n",
       "2    [126, 238, 465, 314, 335, 323, 343, 169, 39, 3...                  1   \n",
       "3    [134, 140, 102, 457, 331, 176, 215, 157, 167, ...                  1   \n",
       "4    [426, 458, 142, 312, 241, 173, 342, 481, 477, ...                  1   \n",
       "..                                                 ...                ...   \n",
       "215                                              [300]                  9   \n",
       "216                                              [482]                  9   \n",
       "217                                           [47, 12]                  9   \n",
       "218                                          [33, 165]                  9   \n",
       "219  [369, 196, 35, 333, 197, 93, 97, 423, 286, 420...                 10   \n",
       "\n",
       "     frequency  \n",
       "0           18  \n",
       "1           22  \n",
       "2           15  \n",
       "3           15  \n",
       "4           18  \n",
       "..         ...  \n",
       "215          1  \n",
       "216          1  \n",
       "217          2  \n",
       "218          2  \n",
       "219         14  \n",
       "\n",
       "[220 rows x 5 columns]"
      ]
     },
     "execution_count": 24,
     "metadata": {},
     "output_type": "execute_result"
    }
   ],
   "source": [
    "df=df1.copy()\n",
    "df"
   ]
  },
  {
   "cell_type": "markdown",
   "metadata": {},
   "source": [
    "## assumptions\n",
    "\n",
    "### 1 delivery to team of 2 contains 2 pizzas, team of 3 is 3 and team of 4 is 4"
   ]
  },
  {
   "cell_type": "code",
   "execution_count": 13,
   "metadata": {},
   "outputs": [],
   "source": [
    "d=t2+t3+t4\n",
    "p=2*t2+3*t3+4*t4"
   ]
  },
  {
   "cell_type": "code",
   "execution_count": 14,
   "metadata": {},
   "outputs": [],
   "source": [
    "def wont_get_pizza(p,total_pizza):\n",
    "    if p>total_pizza:\n",
    "        diff=p-total_pizza\n",
    "        if diff%2==0:\n",
    "            diff=diff/2\n",
    "            return diff,2\n",
    "        if diff%3==0:\n",
    "            diff=diff/3\n",
    "            return diff,3"
   ]
  },
  {
   "cell_type": "code",
   "execution_count": 15,
   "metadata": {},
   "outputs": [
    {
     "data": {
      "text/plain": [
       "(25.0, 2)"
      ]
     },
     "execution_count": 15,
     "metadata": {},
     "output_type": "execute_result"
    }
   ],
   "source": [
    "w=wont_get_pizza(p,total_pizza)\n",
    "w"
   ]
  },
  {
   "cell_type": "code",
   "execution_count": 16,
   "metadata": {},
   "outputs": [],
   "source": [
    "if w[1]==2:\n",
    "    t2=t2-w[0]\n",
    "if w[1]==3:\n",
    "    t3=t3-w[0]"
   ]
  },
  {
   "cell_type": "code",
   "execution_count": 17,
   "metadata": {},
   "outputs": [
    {
     "data": {
      "text/plain": [
       "40.0"
      ]
     },
     "execution_count": 17,
     "metadata": {},
     "output_type": "execute_result"
    }
   ],
   "source": [
    "t2"
   ]
  },
  {
   "cell_type": "code",
   "execution_count": 25,
   "metadata": {},
   "outputs": [],
   "source": [
    "def delivery2(t2,t3,t4,df):\n",
    "    team=[]\n",
    "    s=0\n",
    "    i=0\n",
    "    j=len(df)-1\n",
    "    while(t2!=0):\n",
    "        l=[]\n",
    "        l.append(2)\n",
    "        if len(df['pizza nos'][i])>0:\n",
    "            l.append(df['pizza nos'][i].pop())\n",
    "        else:\n",
    "            i=i+1\n",
    "            l.append(df['pizza nos'][i].pop())\n",
    "        \n",
    "        if len(df['pizza nos'][j])>0:\n",
    "            l.append(df['pizza nos'][j].pop())\n",
    "        else:\n",
    "            j=j-1\n",
    "            l.append(df['pizza nos'][j].pop())\n",
    "        x=list(df['ingredients'][i])\n",
    "        y=list(df['ingredients'][j])\n",
    "        x.extend(y)\n",
    "        x=set(x)\n",
    "        x=len(x)\n",
    "        l.append(x**2)\n",
    "        s=s+x**2\n",
    "        team.append(l)\n",
    "        t2=t2-1\n",
    "    k=i+1   \n",
    "    while(t3!=0):\n",
    "        l=[]\n",
    "        l.append(3)\n",
    "        if len(df['pizza nos'][i])>0:\n",
    "            l.append(df['pizza nos'][i].pop())\n",
    "        else:\n",
    "            i=i+1\n",
    "            while(len(df['pizza nos'][i])==0):\n",
    "                i=i+1\n",
    "            l.append(df['pizza nos'][i].pop())\n",
    "        \n",
    "        if len(df['pizza nos'][k])>0:\n",
    "            l.append(df['pizza nos'][k].pop())\n",
    "        else:\n",
    "            k=k+1\n",
    "            l.append(df['pizza nos'][k].pop())\n",
    "        \n",
    "        if len(df['pizza nos'][j])>0:\n",
    "            l.append(df['pizza nos'][j].pop())\n",
    "        else:\n",
    "            j=j-1\n",
    "            l.append(df['pizza nos'][j].pop())\n",
    "        x=list(df['ingredients'][i])\n",
    "        z=list(df['ingredients'][k])\n",
    "        y=list(df['ingredients'][j])\n",
    "        z.extend(y)\n",
    "        x.extend(z)\n",
    "        x=set(x)\n",
    "        x=len(x)\n",
    "        l.append(x**2)\n",
    "        s=s+x**2\n",
    "        team.append(l)\n",
    "        t3=t3-1\n",
    "    g=k+1\n",
    "    gg=g+1\n",
    "    while(t4!=0):\n",
    "        l=[]\n",
    "        l.append(4)\n",
    "        if len(df['pizza nos'][i])>0:\n",
    "            l.append(df['pizza nos'][i].pop())\n",
    "        else:\n",
    "            i=i+1\n",
    "            while(len(df['pizza nos'][i])==0):\n",
    "                i=i+1\n",
    "            l.append(df['pizza nos'][i].pop())\n",
    "        \n",
    "        if len(df['pizza nos'][k])>0:\n",
    "            l.append(df['pizza nos'][k].pop())\n",
    "        else:\n",
    "            k=k+1\n",
    "            while(len(df['pizza nos'][k])==0):\n",
    "                k=k+1\n",
    "            l.append(df['pizza nos'][k].pop())\n",
    "            \n",
    "        if len(df['pizza nos'][g])>0:\n",
    "            l.append(df['pizza nos'][g].pop())\n",
    "        else:\n",
    "            g=g+1\n",
    "            while(len(df['pizza nos'][g])==0):\n",
    "                g=g+1\n",
    "            l.append(df['pizza nos'][g].pop())\n",
    "            \n",
    "        if len(df['pizza nos'][gg])>0:\n",
    "            l.append(df['pizza nos'][gg].pop())\n",
    "        else:\n",
    "            gg=gg+1\n",
    "            while(len(df['pizza nos'][gg])==0):\n",
    "                gg=gg+1\n",
    "            l.append(df['pizza nos'][gg].pop())\n",
    "        \n",
    "            \n",
    "#         if len(df['pizza nos'][j])>0:\n",
    "#             l.append(df['pizza nos'][j].pop())\n",
    "#         else:\n",
    "#             j=j-1\n",
    "#             while(len(df['pizza nos'][j])==0):\n",
    "#                 j=j-1\n",
    "#             l.append(df['pizza nos'][j].pop())\n",
    "            \n",
    "#         if len(df['pizza nos'][g])>0:\n",
    "#             l.append(df['pizza nos'][g].pop())\n",
    "#         else:\n",
    "#             g=g-1\n",
    "#             while(len(df['pizza nos'][j])==0):\n",
    "#                 g=g-1\n",
    "#             l.append(df['pizza nos'][g].pop())\n",
    "        x=list(df['ingredients'][i])\n",
    "        z=list(df['ingredients'][k])\n",
    "        zz=list(df['ingredients'][g])\n",
    "        y=list(df['ingredients'][gg])\n",
    "        z.extend(y)\n",
    "        x.extend(zz)\n",
    "        x.extend(z)\n",
    "        x=set(x)\n",
    "        x=len(x)\n",
    "        l.append(x**2)\n",
    "        s=s+x**2\n",
    "        team.append(l)\n",
    "        t4=t4-1\n",
    "    return team, s   \n",
    "                \n",
    "        "
   ]
  },
  {
   "cell_type": "code",
   "execution_count": 26,
   "metadata": {},
   "outputs": [
    {
     "data": {
      "text/plain": [
       "[[2, 357, 190, 100],\n",
       " [2, 63, 28, 100],\n",
       " [2, 68, 252, 100],\n",
       " [2, 83, 441, 100],\n",
       " [2, 84, 420, 100],\n",
       " [2, 488, 286, 100],\n",
       " [2, 370, 423, 100],\n",
       " [2, 2, 97, 100],\n",
       " [2, 287, 93, 100],\n",
       " [2, 51, 197, 100],\n",
       " [2, 171, 333, 100],\n",
       " [2, 205, 35, 100],\n",
       " [2, 194, 196, 100],\n",
       " [2, 191, 369, 100],\n",
       " [2, 255, 165, 81],\n",
       " [2, 246, 33, 81],\n",
       " [2, 96, 12, 81],\n",
       " [2, 150, 47, 81],\n",
       " [2, 355, 482, 81],\n",
       " [2, 383, 300, 81],\n",
       " [2, 270, 326, 81],\n",
       " [2, 77, 14, 64],\n",
       " [2, 469, 21, 64],\n",
       " [2, 4, 279, 64],\n",
       " [2, 275, 1, 64],\n",
       " [2, 476, 315, 64],\n",
       " [2, 281, 322, 81],\n",
       " [2, 340, 306, 64],\n",
       " [2, 428, 299, 64],\n",
       " [2, 161, 421, 81],\n",
       " [2, 228, 256, 64],\n",
       " [2, 183, 454, 81],\n",
       " [2, 118, 330, 64],\n",
       " [2, 313, 189, 49],\n",
       " [2, 418, 414, 49],\n",
       " [2, 232, 358, 49],\n",
       " [2, 135, 492, 49],\n",
       " [2, 131, 7, 49],\n",
       " [2, 130, 17, 49],\n",
       " [2, 316, 86, 49],\n",
       " [3, 470, 257, 212, 64],\n",
       " [3, 262, 85, 334, 49],\n",
       " [3, 496, 374, 154, 49],\n",
       " [3, 39, 169, 352, 49],\n",
       " [3, 343, 323, 266, 36],\n",
       " [3, 335, 314, 72, 49],\n",
       " [3, 465, 238, 158, 36],\n",
       " [3, 126, 260, 73, 49],\n",
       " [3, 415, 485, 11, 36],\n",
       " [3, 368, 408, 410, 36],\n",
       " [3, 417, 167, 120, 36],\n",
       " [3, 157, 215, 484, 49],\n",
       " [3, 176, 331, 213, 36],\n",
       " [3, 457, 102, 301, 36],\n",
       " [3, 140, 134, 141, 36],\n",
       " [3, 309, 381, 319, 36],\n",
       " [3, 265, 382, 462, 49],\n",
       " [3, 74, 202, 337, 49],\n",
       " [3, 493, 297, 64, 49],\n",
       " [3, 305, 477, 495, 36],\n",
       " [3, 481, 342, 170, 36],\n",
       " [3, 173, 241, 182, 36],\n",
       " [3, 312, 142, 156, 49],\n",
       " [3, 458, 426, 443, 36],\n",
       " [3, 413, 398, 434, 25],\n",
       " [3, 290, 49, 155, 25],\n",
       " [3, 466, 30, 38, 36],\n",
       " [3, 321, 220, 350, 25],\n",
       " [3, 216, 440, 451, 25],\n",
       " [3, 179, 239, 166, 36],\n",
       " [3, 243, 349, 329, 25],\n",
       " [3, 145, 133, 48, 36],\n",
       " [3, 58, 82, 448, 25],\n",
       " [3, 75, 53, 463, 36],\n",
       " [3, 483, 489, 234, 36],\n",
       " [3, 9, 366, 486, 36],\n",
       " [3, 43, 42, 0, 36],\n",
       " [3, 406, 222, 452, 36],\n",
       " [3, 223, 456, 108, 36],\n",
       " [3, 227, 435, 371, 25],\n",
       " [3, 248, 122, 264, 25],\n",
       " [3, 127, 57, 113, 36],\n",
       " [3, 87, 471, 376, 36],\n",
       " [3, 416, 293, 261, 36],\n",
       " [3, 303, 37, 310, 36],\n",
       " [3, 253, 168, 111, 36],\n",
       " [3, 346, 344, 298, 36],\n",
       " [3, 338, 389, 475, 36],\n",
       " [3, 184, 178, 52, 36],\n",
       " [3, 354, 318, 210, 25],\n",
       " [3, 143, 317, 221, 25],\n",
       " [3, 67, 62, 219, 25],\n",
       " [3, 88, 491, 360, 25],\n",
       " [3, 487, 291, 240, 25],\n",
       " [3, 404, 308, 199, 16],\n",
       " [3, 296, 478, 187, 25],\n",
       " [3, 206, 209, 430, 16],\n",
       " [3, 211, 393, 19, 16],\n",
       " [3, 386, 98, 320, 16],\n",
       " [3, 125, 137, 273, 16],\n",
       " [4, 272, 380, 479, 29, 9],\n",
       " [4, 480, 94, 224, 244, 9],\n",
       " [4, 436, 402, 229, 390, 4],\n",
       " [4, 464, 110, 250, 365, 4],\n",
       " [4, 103, 327, 146, 359, 4],\n",
       " [4, 377, 461, 45, 50, 9],\n",
       " [4, 361, 80, 282, 274, 9],\n",
       " [4, 185, 32, 172, 144, 25],\n",
       " [4, 378, 226, 153, 363, 9],\n",
       " [4, 116, 25, 115, 41, 9],\n",
       " [4, 79, 69, 56, 259, 9],\n",
       " [4, 289, 22, 332, 92, 25],\n",
       " [4, 132, 119, 100, 325, 4],\n",
       " [4, 198, 395, 112, 490, 16],\n",
       " [4, 295, 81, 247, 204, 16],\n",
       " [4, 151, 379, 70, 233, 4],\n",
       " [4, 450, 494, 267, 138, 9],\n",
       " [4, 128, 245, 339, 106, 9],\n",
       " [4, 237, 195, 341, 372, 9],\n",
       " [4, 200, 284, 207, 148, 16],\n",
       " [4, 114, 160, 109, 107, 25],\n",
       " [4, 460, 44, 78, 285, 4],\n",
       " [4, 280, 124, 164, 186, 16],\n",
       " [4, 36, 54, 217, 411, 4],\n",
       " [4, 304, 446, 26, 425, 9],\n",
       " [4, 254, 136, 101, 432, 25],\n",
       " [4, 152, 174, 468, 401, 16],\n",
       " [4, 27, 59, 251, 129, 9],\n",
       " [4, 66, 269, 347, 104, 9],\n",
       " [4, 46, 16, 453, 40, 36],\n",
       " [4, 373, 76, 95, 307, 16],\n",
       " [4, 392, 328, 89, 180, 36],\n",
       " [4, 3, 472, 123, 422, 49],\n",
       " [4, 459, 348, 192, 230, 49],\n",
       " [4, 388, 24, 18, 149, 49],\n",
       " [4, 444, 442, 474, 353, 49],\n",
       " [4, 225, 139, 283, 467, 25],\n",
       " [4, 91, 437, 263, 294, 49],\n",
       " [4, 397, 242, 159, 302, 49],\n",
       " [4, 351, 431, 438, 391, 25],\n",
       " [4, 235, 8, 276, 163, 36],\n",
       " [4, 364, 23, 65, 400, 25],\n",
       " [4, 201, 427, 447, 384, 9],\n",
       " [4, 429, 412, 177, 10, 36],\n",
       " [4, 117, 394, 278, 99, 25],\n",
       " [4, 90, 203, 31, 449, 49],\n",
       " [4, 345, 497, 218, 403, 64],\n",
       " [4, 188, 375, 162, 407, 36],\n",
       " [4, 71, 214, 55, 13, 49],\n",
       " [4, 105, 362, 268, 336, 36],\n",
       " [4, 6, 399, 424, 121, 49],\n",
       " [4, 193, 473, 175, 445, 64],\n",
       " [4, 419, 385, 367, 455, 64],\n",
       " [4, 439, 288, 20, 387, 64],\n",
       " [4, 181, 311, 277, 5, 81],\n",
       " [4, 147, 409, 433, 356, 64],\n",
       " [4, 292, 236, 271, 34, 49],\n",
       " [4, 60, 208, 249, 15, 49],\n",
       " [4, 498, 258, 396, 61, 64],\n",
       " [4, 499, 324, 231, 405, 100]]"
      ]
     },
     "execution_count": 26,
     "metadata": {},
     "output_type": "execute_result"
    }
   ],
   "source": [
    "l1=[]\n",
    "s=0\n",
    "l1,s=delivery2(t2,t3,t4,df)\n",
    "l1"
   ]
  },
  {
   "cell_type": "code",
   "execution_count": 27,
   "metadata": {},
   "outputs": [
    {
     "data": {
      "text/plain": [
       "160"
      ]
     },
     "execution_count": 27,
     "metadata": {},
     "output_type": "execute_result"
    }
   ],
   "source": [
    "len(l1)"
   ]
  },
  {
   "cell_type": "code",
   "execution_count": 28,
   "metadata": {},
   "outputs": [
    {
     "data": {
      "text/plain": [
       "550"
      ]
     },
     "execution_count": 28,
     "metadata": {},
     "output_type": "execute_result"
    }
   ],
   "source": [
    "p"
   ]
  },
  {
   "cell_type": "code",
   "execution_count": 29,
   "metadata": {},
   "outputs": [
    {
     "data": {
      "text/plain": [
       "185"
      ]
     },
     "execution_count": 29,
     "metadata": {},
     "output_type": "execute_result"
    }
   ],
   "source": [
    "d"
   ]
  },
  {
   "cell_type": "code",
   "execution_count": 30,
   "metadata": {},
   "outputs": [
    {
     "data": {
      "text/plain": [
       "6963"
      ]
     },
     "execution_count": 30,
     "metadata": {},
     "output_type": "execute_result"
    }
   ],
   "source": [
    "s"
   ]
  },
  {
   "cell_type": "code",
   "execution_count": null,
   "metadata": {},
   "outputs": [],
   "source": []
  }
 ],
 "metadata": {
  "kernelspec": {
   "display_name": "Python 3",
   "language": "python",
   "name": "python3"
  },
  "language_info": {
   "codemirror_mode": {
    "name": "ipython",
    "version": 3
   },
   "file_extension": ".py",
   "mimetype": "text/x-python",
   "name": "python",
   "nbconvert_exporter": "python",
   "pygments_lexer": "ipython3",
   "version": "3.7.3"
  }
 },
 "nbformat": 4,
 "nbformat_minor": 2
}
